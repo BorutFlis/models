{
 "cells": [
  {
   "cell_type": "code",
   "execution_count": 1,
   "id": "0123881d-643e-4d4b-8ae3-df9890af233d",
   "metadata": {},
   "outputs": [],
   "source": [
    "from abstract_models.imputation import RandomNumericImputer"
   ]
  },
  {
   "cell_type": "code",
   "execution_count": 2,
   "id": "3da1dbe8-772a-4d25-9500-551a94d642b3",
   "metadata": {},
   "outputs": [
    {
     "data": {
      "text/plain": [
       "'C:\\\\Users\\\\borut.flis\\\\PycharmProjects\\\\models\\\\early_diagnosis\\\\notebooks'"
      ]
     },
     "execution_count": 2,
     "metadata": {},
     "output_type": "execute_result"
    }
   ],
   "source": [
    "import os\n",
    "\n",
    "os.getcwd()"
   ]
  },
  {
   "cell_type": "code",
   "execution_count": 4,
   "id": "5ce48903-005d-4229-8692-01d41915f9f3",
   "metadata": {},
   "outputs": [
    {
     "name": "stdout",
     "output_type": "stream",
     "text": [
      "C:\\Users\\borut.flis\\AppData\\Local\\miniconda3\\envs\\stratifyhfML\\python312.zip\n",
      "C:\\Users\\borut.flis\\AppData\\Local\\miniconda3\\envs\\stratifyhfML\\DLLs\n",
      "C:\\Users\\borut.flis\\AppData\\Local\\miniconda3\\envs\\stratifyhfML\\Lib\n",
      "C:\\Users\\borut.flis\\AppData\\Local\\miniconda3\\envs\\stratifyhfML\n",
      "\n",
      "C:\\Users\\borut.flis\\AppData\\Local\\miniconda3\\envs\\stratifyhfML\\Lib\\site-packages\n",
      "C:\\Users\\borut.flis\\AppData\\Local\\miniconda3\\envs\\stratifyhfML\\Lib\\site-packages\\win32\n",
      "C:\\Users\\borut.flis\\AppData\\Local\\miniconda3\\envs\\stratifyhfML\\Lib\\site-packages\\win32\\lib\n",
      "C:\\Users\\borut.flis\\AppData\\Local\\miniconda3\\envs\\stratifyhfML\\Lib\\site-packages\\Pythonwin\n",
      "C:\\Users\\borut.flis\\PycharmProjects\\stratifyhfml\n",
      "C:\\Users\\borut.flis\\AppData\\Local\\miniconda3\\envs\\stratifyhfML\\Lib\\site-packages\\setuptools\\_vendor\n"
     ]
    }
   ],
   "source": [
    "import sys\n",
    "\n",
    "for pth in sys.path:\n",
    "    print(pth)"
   ]
  },
  {
   "cell_type": "code",
   "execution_count": null,
   "id": "355e1ce6-3c36-492a-8e42-e2b09ccc5d51",
   "metadata": {},
   "outputs": [],
   "source": [
    "import os \n",
    "\n",
    "import pandas as pd\n",
    "\n",
    "DATA_DIR = \"../data\"\n",
    "RESULTS_DIR = os.path.join(DATA_DIR, \"results\")"
   ]
  },
  {
   "cell_type": "code",
   "execution_count": null,
   "id": "3c7b0d25-7d7e-459a-b1c7-1d3557bcb4ff",
   "metadata": {},
   "outputs": [],
   "source": [
    "results_df = pd.concat([\n",
    "    pd.read_csv(os.path.join(RESULTS_DIR, f)).assign(cv_split=f) for f in [\"ID_k_fold_HFD.csv\", \"centre_k_fold_HFD.csv\", \"centre_virtual_k_fold_HFD.csv\"]\n",
    "], ignore_index=True)"
   ]
  },
  {
   "cell_type": "code",
   "execution_count": null,
   "id": "248e5381-1fe2-4b22-8293-15c864295138",
   "metadata": {},
   "outputs": [],
   "source": [
    "grouped_results_df = pd.concat([\n",
    "    results_df.groupby([\"imputer\", \"cv_split\", \"Model\", \"attr_group\", \"target\"])[[\"AUC\", \"Accuracy\", \"Sensitivity (Recall)\", \"Specificity\"]].mean(),\n",
    "    results_df.groupby([\"imputer\", \"cv_split\", \"Model\", \"attr_group\", \"target\"])[[\"n_positive\", \"n_total\"]].sum()\n",
    "], axis=1).reset_index().drop(\"imputer\", axis=1)"
   ]
  },
  {
   "cell_type": "code",
   "execution_count": null,
   "id": "c6ab579a-cfaf-4ec8-94a1-4a7c1b1251be",
   "metadata": {},
   "outputs": [],
   "source": [
    "grouped_results_df[\"target\"] = grouped_results_df[\"target\"].str.lstrip(\"Dia_\")\n",
    "grouped_results_df = grouped_results_df.query(\"target == 'HFD'\")\n",
    "grouped_results_df"
   ]
  },
  {
   "cell_type": "code",
   "execution_count": null,
   "id": "652ddf9c-f586-437b-8b44-1a6cca00e182",
   "metadata": {},
   "outputs": [],
   "source": [
    "best_models_df = grouped_results_df.groupby([\"cv_split\", \"attr_group\", \"target\"]).apply(lambda x: x.loc[x[\"AUC\"].idxmax()])"
   ]
  },
  {
   "cell_type": "code",
   "execution_count": null,
   "id": "1600db4c-7aa9-4703-8034-f077fa4b8e2c",
   "metadata": {
    "scrolled": true
   },
   "outputs": [],
   "source": [
    "best_models_df"
   ]
  },
  {
   "cell_type": "code",
   "execution_count": null,
   "id": "205e4329-7c9c-462a-b6db-2d5a87336d2d",
   "metadata": {},
   "outputs": [],
   "source": [
    "rename_cols = {\"Sensitivity (Recall)\": \"Sensitivity\", \"AUC\": \"c-index\", \"target\": \"Predicting\", \"attr_group\": \"Attributes\"}\n",
    "final_selection = [\"cv_split\", \"Model\", \"c-index\", \"Accuracy\", \"Majority Accuracy\", \"Sensitivity\", \"Specificity\"]"
   ]
  },
  {
   "cell_type": "code",
   "execution_count": null,
   "id": "1b6b0872-4086-4185-abcf-24caee2e3a2a",
   "metadata": {},
   "outputs": [],
   "source": [
    "#compare_attr_df = best_models_df.loc[pd.IndexSlice[:, [\"HFD\"]], :].iloc[:-1].rename(columns=rename_cols)\n",
    "best_models_df[\"Majority Accuracy\"] = best_models_df[\"n_positive\"]/ best_models_df[\"n_total\"]"
   ]
  },
  {
   "cell_type": "code",
   "execution_count": null,
   "id": "3402f592-d5c6-4207-ae73-4cd0860043d0",
   "metadata": {},
   "outputs": [],
   "source": [
    "compare_attr_df = best_models_df.rename(columns=rename_cols)\n",
    "compare_attr_df[\"cv_split\"] = [\"by ID\", \"by centre\", \"by centre + virtual\"]\n",
    "# compare_attr_df[\"Attributes\"] = [\"MICE\", \"Expert Selection\", \"Expert + Blood\", \"Secondary\"]\n",
    "compare_attr_df[\"Majority Accuracy\"] = compare_attr_df[\"n_positive\"]/ compare_attr_df[\"n_total\"]\n",
    "compare_attr_df.loc[:, compare_attr_df.dtypes.eq(\"float\")] = compare_attr_df.loc[:, compare_attr_df.dtypes.eq(\"float\")].round(3)\n",
    "#compare_attr_df.loc[:, final_selection].to_csv(os.path.join(RESULTS_DIR, \"final_tables\", \"compare_attrs.csv\"), index=None)\n",
    "compare_attr_df.loc[:, final_selection]"
   ]
  },
  {
   "cell_type": "code",
   "execution_count": null,
   "id": "863c05e3-beb1-4648-80e9-9d9b6fb2d6eb",
   "metadata": {},
   "outputs": [],
   "source": [
    "final_selection = [\"Predicting\", \"Model\", \"c-index\", \"Accuracy\", \"Majority Accuracy\", \"Sensitivity\", \"Specificity\"]\n",
    "\n",
    "compare_expert_df = best_models_df.loc[pd.IndexSlice[\"expert\", :], :].rename(columns=rename_cols)\n",
    "compare_expert_df[\"Majority Accuracy\"] = compare_expert_df[\"n_positive\"]/ compare_expert_df[\"n_total\"]\n",
    "compare_expert_df[\"Majority Accuracy\"] = compare_expert_df[\"Majority Accuracy\"].where(\n",
    "    compare_expert_df[\"Majority Accuracy\"].gt(0.5), 1-compare_expert_df[\"Majority Accuracy\"]\n",
    ")\n",
    "compare_expert_df.loc[:, compare_expert_df.dtypes.eq(\"float\")] = compare_expert_df.loc[:, compare_expert_df.dtypes.eq(\"float\")].round(3)\n",
    "\n",
    "compare_expert_df.loc[:, final_selection].to_csv(os.path.join(RESULTS_DIR, \"final_tables\", \"compare_expert.csv\"), index=None)\n",
    "compare_expert_df.loc[:, final_selection]"
   ]
  },
  {
   "cell_type": "code",
   "execution_count": null,
   "id": "9d6cd6ac-828b-4bcd-9db4-5bb0de381f8a",
   "metadata": {},
   "outputs": [],
   "source": [
    "final_selection = [\"Predicting\", \"Model\", \"c-index\", \"Accuracy\", \"Majority Accuracy\", \"Sensitivity\", \"Specificity\"]\n",
    "\n",
    "compare_expert_df = best_models_df.loc[pd.IndexSlice[\"expert_blood\", :], :].rename(columns=rename_cols)\n",
    "compare_expert_df[\"Majority Accuracy\"] = compare_expert_df[\"n_positive\"]/ compare_expert_df[\"n_total\"]\n",
    "compare_expert_df[\"Majority Accuracy\"] = compare_expert_df[\"Majority Accuracy\"].where(\n",
    "    compare_expert_df[\"Majority Accuracy\"].gt(0.5), 1-compare_expert_df[\"Majority Accuracy\"]\n",
    ")\n",
    "compare_expert_df.loc[:, compare_expert_df.dtypes.eq(\"float\")] = compare_expert_df.loc[:, compare_expert_df.dtypes.eq(\"float\")].round(3)\n",
    "\n",
    "compare_expert_df.loc[:, final_selection].to_csv(os.path.join(RESULTS_DIR, \"final_tables\", \"compare_expert_blood.csv\"), index=None)\n",
    "compare_expert_df.loc[:, final_selection]"
   ]
  },
  {
   "cell_type": "code",
   "execution_count": null,
   "id": "e1e541a0-89bd-444c-b236-935c9e13ae89",
   "metadata": {},
   "outputs": [],
   "source": [
    "final_selection = [\"Predicting\", \"Model\", \"c-index\", \"Accuracy\", \"Majority Accuracy\", \"Sensitivity\", \"Specificity\"]\n",
    "\n",
    "compare_expert_df = best_models_df.loc[[pd.IndexSlice[\"secondary\", \"HFD\"]], :].rename(columns=rename_cols)\n",
    "compare_expert_df[\"Majority Accuracy\"] = compare_expert_df[\"n_positive\"]/ compare_expert_df[\"n_total\"]\n",
    "compare_expert_df[\"Majority Accuracy\"] = compare_expert_df[\"Majority Accuracy\"].where(\n",
    "    compare_expert_df[\"Majority Accuracy\"].gt(0.5), 1-compare_expert_df[\"Majority Accuracy\"]\n",
    ")\n",
    "compare_expert_df.loc[:, compare_expert_df.dtypes.eq(\"float\")] = compare_expert_df.loc[:, compare_expert_df.dtypes.eq(\"float\")].round(3)\n",
    "\n",
    "compare_expert_df.loc[:, final_selection].to_csv(os.path.join(RESULTS_DIR, \"final_tables\", \"compare_secondary.csv\"), index=None)\n",
    "compare_expert_df.loc[:, final_selection]"
   ]
  },
  {
   "cell_type": "code",
   "execution_count": null,
   "id": "a81e89f5-fcb0-403f-aa71-e0bf3f7a3f77",
   "metadata": {},
   "outputs": [],
   "source": []
  }
 ],
 "metadata": {
  "kernelspec": {
   "display_name": "Python 3 (ipykernel)",
   "language": "python",
   "name": "python3"
  },
  "language_info": {
   "codemirror_mode": {
    "name": "ipython",
    "version": 3
   },
   "file_extension": ".py",
   "mimetype": "text/x-python",
   "name": "python",
   "nbconvert_exporter": "python",
   "pygments_lexer": "ipython3",
   "version": "3.12.3"
  }
 },
 "nbformat": 4,
 "nbformat_minor": 5
}
